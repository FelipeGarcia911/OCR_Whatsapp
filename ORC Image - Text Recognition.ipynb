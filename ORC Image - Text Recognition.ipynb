{
 "cells": [
  {
   "cell_type": "markdown",
   "metadata": {},
   "source": [
    "## OCR - Object Character Recognition - Image to Text\n",
    "#### Felipe Garcia - Electronic Engineer - arfgarciama@unal.edu.co"
   ]
  },
  {
   "cell_type": "markdown",
   "metadata": {},
   "source": [
    "### General Description\n",
    "I am using OCR to extract text from images and then filter it to look for interesting words. I was helping to my family to get a job, so I entered in a WhatsApp group related, but They send a lot of images of different job's opportunities but it's so bored to read each image and try to get what they are offering. So I created this script to find only the job's opportunities that I need. "
   ]
  },
  {
   "cell_type": "markdown",
   "metadata": {},
   "source": [
    "### Implementation Description\n",
    "1. OCR Processing: I am using Pytesseract to implement the OCR algorhim \n",
    "2. Files Processing: I am using multithread implementation to iterate over the image files\n",
    "3. Image Presentation: At the end, I'll show in your native image viewer the resulting images. "
   ]
  },
  {
   "cell_type": "code",
   "execution_count": 1,
   "metadata": {
    "scrolled": true
   },
   "outputs": [
    {
     "name": "stdout",
     "output_type": "stream",
     "text": [
      "Requirement already satisfied: pytesseract in /anaconda3/lib/python3.7/site-packages (0.2.6)\r\n",
      "Requirement already satisfied: Pillow in /anaconda3/lib/python3.7/site-packages (from pytesseract) (5.4.1)\r\n"
     ]
    }
   ],
   "source": [
    "!pip install pytesseract"
   ]
  },
  {
   "cell_type": "code",
   "execution_count": 2,
   "metadata": {},
   "outputs": [],
   "source": [
    "#Load libraries\n",
    "try:\n",
    "    from PIL import Image\n",
    "except ImportError:\n",
    "    import Image\n",
    "import pytesseract\n",
    "\n",
    "from joblib import Parallel, delayed\n",
    "import multiprocessing\n",
    "\n",
    "from os import listdir\n",
    "from os.path import isfile, join"
   ]
  },
  {
   "cell_type": "code",
   "execution_count": 3,
   "metadata": {},
   "outputs": [],
   "source": [
    "#Set local variables\n",
    "mypath = './images'\n",
    "text_to_search = ['java','python','android','javascript']"
   ]
  },
  {
   "cell_type": "code",
   "execution_count": null,
   "metadata": {},
   "outputs": [],
   "source": [
    "#Get files names from Images Folders\n",
    "onlyfiles = [f for f in listdir(mypath) if isfile(join(mypath, f))]"
   ]
  },
  {
   "cell_type": "code",
   "execution_count": null,
   "metadata": {},
   "outputs": [],
   "source": [
    "#Image processing function\n",
    "def processImage(search_array, current_path, image_name):\n",
    "    image_path = current_path + '/' + image_name\n",
    "    text = pytesseract.image_to_string(Image.open(image_path),lang='spa')\n",
    "    text_processed = text.lower().strip()\n",
    "    for i in range(0, len(search_array)):\n",
    "        if(search_array[i] in text_processed):\n",
    "            return (image_name)\n",
    "        else:\n",
    "            return '-'"
   ]
  },
  {
   "cell_type": "code",
   "execution_count": null,
   "metadata": {},
   "outputs": [
    {
     "name": "stdout",
     "output_type": "stream",
     "text": [
      "4\n"
     ]
    }
   ],
   "source": [
    "#Multicore implementation\n",
    "num_cores = multiprocessing.cpu_count()\n",
    "print(num_cores)"
   ]
  },
  {
   "cell_type": "code",
   "execution_count": null,
   "metadata": {},
   "outputs": [],
   "source": [
    "#Image Processing Execution\n",
    "results = Parallel(n_jobs=num_cores)(delayed(processImage)(text_to_search, mypath, onlyfiles[i]) for i in range(0, len(onlyfiles)))"
   ]
  },
  {
   "cell_type": "code",
   "execution_count": null,
   "metadata": {},
   "outputs": [],
   "source": [
    "#Open all images that contains the text looked. \n",
    "for i in range(0, len(results)):\n",
    "    image_name = results[i]\n",
    "    if(image_name != '-'):\n",
    "        image_path = mypath + '/' + image_name\n",
    "        img = Image.open(image_path)\n",
    "        img.show()"
   ]
  }
 ],
 "metadata": {
  "kernelspec": {
   "display_name": "Python 3",
   "language": "python",
   "name": "python3"
  },
  "language_info": {
   "codemirror_mode": {
    "name": "ipython",
    "version": 3
   },
   "file_extension": ".py",
   "mimetype": "text/x-python",
   "name": "python",
   "nbconvert_exporter": "python",
   "pygments_lexer": "ipython3",
   "version": "3.7.3"
  }
 },
 "nbformat": 4,
 "nbformat_minor": 2
}
